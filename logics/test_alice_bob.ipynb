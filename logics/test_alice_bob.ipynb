{
 "cells": [
  {
   "cell_type": "code",
   "execution_count": 1,
   "metadata": {},
   "outputs": [
    {
     "name": "stderr",
     "output_type": "stream",
     "text": [
      "\u001b[31mERROR: usage: ipykernel_launcher.py [options] [file_or_dir] [file_or_dir] [...]\n",
      "ipykernel_launcher.py: error: unrecognized arguments: --f=/home/magaye/.local/share/jupyter/runtime/kernel-v302019a99333b226a682c3dd00908ccb1ffd17809.json\n",
      "  inifile: None\n",
      "  rootdir: /home/magaye/Bureau/cours/m2/pfe/PFE-main/PFE\n",
      "\u001b[0m\n"
     ]
    }
   ],
   "source": [
    "import numpy as np\n",
    "import pytest\n",
    "from AliceBobBase import Bob, Alice  \n",
    "\n",
    "def test_bob_transmit():\n",
    "    bob = Bob(transmission_length=10, stop_at=6)\n",
    "    data = bob.transmit()\n",
    "    assert len(data) == 6, \"La transmission devrait s'arrêter à 'stop_at'\"\n",
    "    assert set(data).issubset({0, 1}), \"Les données envoyées doivent être des 0 et 1\"\n",
    "\n",
    "def test_alice_receive():\n",
    "    alice = Alice(transmission_length=10)\n",
    "    data = np.array([1, 0, 1, 0, 1, 0])\n",
    "    received_length = alice.receive(data)\n",
    "    assert received_length == len(data), \"Alice doit recevoir toute la transmission disponible\"\n",
    "    assert np.array_equal(alice.buffer[:received_length], data), \"Les données reçues doivent être stockées correctement\"\n",
    "\n",
    "def test_fill_pattern():\n",
    "    alice = Alice(transmission_length=10)\n",
    "    data = np.array([1, 0, 1, 0, 1])  # Motif de base\n",
    "    received_length = alice.receive(data)\n",
    "    estimated = alice.fill_pattern(received_length, period_len=5)\n",
    "    assert len(estimated) == 10, \"Les données estimées doivent avoir la bonne longueur\"\n",
    "    assert np.array_equal(estimated[:5], data), \"Les premiers bits doivent être ceux reçus\"\n",
    "    assert np.array_equal(estimated[5:], data[:5]), \"Le motif doit être répété correctement\"\n",
    "\n",
    "def test_estimate_ratio():\n",
    "    alice = Alice(transmission_length=10)\n",
    "    alice.receive(np.array([1, 1, 0, 0, 1]))\n",
    "    ratio = alice.estimate_ratio(5)\n",
    "    assert ratio == 3/5, \"Le ratio de bits 1 doit être correctement calculé\"\n",
    "\n",
    "def test_estimate_missing_data():\n",
    "    alice = Alice(transmission_length=10)\n",
    "    alice.receive(np.array([1, 0, 1, 0, 1]))\n",
    "    estimated = alice.estimate_missing_data(5, period_len=5)\n",
    "    assert len(estimated) == 10, \"Les données estimées doivent avoir la bonne longueur\"\n",
    "    assert np.sum(estimated) == 5, \"Le nombre de 1 doit être cohérent avec le ratio estimé\"\n",
    "\n",
    "if __name__ == \"__main__\":\n",
    "    pytest.main()\n"
   ]
  }
 ],
 "metadata": {
  "kernelspec": {
   "display_name": "env",
   "language": "python",
   "name": "python3"
  },
  "language_info": {
   "codemirror_mode": {
    "name": "ipython",
    "version": 3
   },
   "file_extension": ".py",
   "mimetype": "text/x-python",
   "name": "python",
   "nbconvert_exporter": "python",
   "pygments_lexer": "ipython3",
   "version": "3.12.3"
  }
 },
 "nbformat": 4,
 "nbformat_minor": 2
}
